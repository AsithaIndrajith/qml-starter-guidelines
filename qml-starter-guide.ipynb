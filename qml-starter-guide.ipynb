{
 "cells": [
  {
   "cell_type": "code",
   "execution_count": 13,
   "id": "1a9ee9c8-93ba-4b59-b306-10ae6081a18a",
   "metadata": {},
   "outputs": [],
   "source": [
    "# !pip install pennylane\n",
    "# !pip install matplotlib",
    "# !pip install scikit-learn"
   ]
  },
  {
   "cell_type": "markdown",
   "id": "7c4ba6d0-c2a7-4fa0-9ca5-4757177f3877",
   "metadata": {},
   "source": [
    "# From Classical to Quantum: A Beginner's Guide to QML"
   ]
  },
  {
   "cell_type": "markdown",
   "id": "93b02bf2-0549-4160-b7d4-dd10b9dae3ba",
   "metadata": {},
   "source": [
    "## Prerequisites for Quantum Machine Learning\n",
    "\n",
    "This guide will help you transition from classical computing to quantum computing concepts, explaining the fundamentals needed for Quantum Machine Learning (QML).\n",
    "\n",
    "## 1. From Classical Bits to Quantum Bits (Qubits)\n",
    "\n",
    "### Classical Bits: What You Already Know\n",
    "\n",
    "In classical computing, we use bits as the basic unit of information:\n",
    "- A bit can be either 0 or 1\n",
    "- It's like a light switch: either ON or OFF\n",
    "- At any moment, a bit is in exactly one state"
   ]
  },
  {
   "cell_type": "code",
   "execution_count": 1,
   "id": "ce29367a-00a3-4273-b77d-bb07b47b2172",
   "metadata": {},
   "outputs": [],
   "source": [
    "# Classical bit representation\n",
    "classical_bit = 0  # Can only be 0 or 1"
   ]
  },
  {
   "cell_type": "markdown",
   "id": "92fc0732-bb37-4195-bae3-5aba034b7b19",
   "metadata": {},
   "source": [
    "### Quantum Bits (Qubits): The Quantum Difference\n",
    "\n",
    "A qubit is the quantum equivalent of a classical bit, but with fascinating differences:\n",
    "\n",
    "- A qubit can be in state |0⟩, state |1⟩, or a **superposition** of both states simultaneously\n",
    "- The notation |0⟩ and |1⟩ is called \"ket\" notation, coming from quantum mechanics\n",
    "- Superposition means a qubit exists as a combination of multiple states at once"
   ]
  },
  {
   "cell_type": "code",
   "execution_count": 2,
   "id": "e175e176-2479-484e-aed0-0213fd8bfd51",
   "metadata": {},
   "outputs": [
    {
     "name": "stdout",
     "output_type": "stream",
     "text": [
      "[0.70710678+0.j 0.70710678+0.j]\n"
     ]
    }
   ],
   "source": [
    "# In PennyLane, a qubit starts in state |0⟩ by default\n",
    "# We can put it in superposition with a Hadamard gate\n",
    "import pennylane as qml\n",
    "\n",
    "dev = qml.device('default.qubit', wires=1)  # Create a device with 1 qubit\n",
    "\n",
    "@qml.qnode(dev)\n",
    "def superposition_demo():\n",
    "    qml.Hadamard(wires=0)  # Put qubit in superposition\n",
    "    return qml.state()  # Return the quantum state\n",
    "\n",
    "result = superposition_demo()\n",
    "print(result)  # Outputs: [0.7071+0.j 0.7071+0.j] (equal superposition of |0⟩ and |1⟩)"
   ]
  },
  {
   "cell_type": "markdown",
   "id": "f10f2b75-1e50-4fec-8dd3-e71b77528fc5",
   "metadata": {},
   "source": [
    "**Visual Analogy**: If a classical bit is like a coin showing either heads or tails, a qubit is like a spinning coin - simultaneously heads and tails until measured."
   ]
  },
  {
   "cell_type": "markdown",
   "id": "26edb5bf-7a73-4e6a-b19b-2fa70c339ba0",
   "metadata": {},
   "source": [
    "## 2. Understanding Quantum States\n",
    "\n",
    "A quantum state represents all the information about a quantum system. For a single qubit:\n",
    "\n",
    "- State |0⟩ is represented as [1, 0]\n",
    "- State |1⟩ is represented as [0, 1]\n",
    "- A superposition state is a combination, like [0.7071, 0.7071]\n",
    "\n",
    "The numbers in these vectors are called **probability amplitudes**. When we measure a qubit:\n",
    "- The probability of getting |0⟩ is the square of the first amplitude\n",
    "- The probability of getting |1⟩ is the square of the second amplitude"
   ]
  },
  {
   "cell_type": "code",
   "execution_count": 4,
   "id": "60816682-c7b0-4dab-b118-8fdf5b05c7df",
   "metadata": {},
   "outputs": [
    {
     "name": "stdout",
     "output_type": "stream",
     "text": [
      "[0.91266781 0.08733219]\n"
     ]
    }
   ],
   "source": [
    "# Creating and measuring a biased superposition state\n",
    "@qml.qnode(dev)\n",
    "def biased_superposition():\n",
    "    # Create uneven superposition (more likely to measure |0⟩)\n",
    "    qml.RY(0.6, wires=0)  # Rotation around Y-axis\n",
    "    return qml.probs(wires=0)  # Return measurement probabilities\n",
    "\n",
    "probabilities = biased_superposition()\n",
    "print(probabilities)  # Approximately [0.75, 0.25]\n",
    "                      # 75% chance of measuring |0⟩, 25% chance of |1⟩"
   ]
  },
  {
   "cell_type": "markdown",
   "id": "9c42059f-fec8-4188-9f46-04d1b9523b6c",
   "metadata": {},
   "source": [
    "## 3. Quantum Gates: The Building Blocks\n",
    "\n",
    "Quantum gates are operations that manipulate qubits, similar to how logic gates manipulate classical bits.\n",
    "\n",
    "### Basic Single-Qubit Gates\n",
    "\n",
    "1. **X Gate** (NOT gate): Flips |0⟩ to |1⟩ and vice versa\n",
    "   ```python\n",
    "   qml.X(wires=0)  # Flip the qubit\n",
    "   ```\n",
    "\n",
    "2. **H Gate** (Hadamard): Creates equal superposition\n",
    "   ```python\n",
    "   qml.Hadamard(wires=0)  # Creates |+⟩ state: equal parts |0⟩ and |1⟩\n",
    "   ```\n",
    "\n",
    "3. **Rotation Gates**: Rotate the qubit state around the X, Y, or Z axis\n",
    "   ```python\n",
    "   qml.RX(0.5, wires=0)  # Rotate around X-axis by 0.5 radians\n",
    "   qml.RY(0.3, wires=0)  # Rotate around Y-axis\n",
    "   qml.RZ(1.2, wires=0)  # Rotate around Z-axis\n",
    "   ```"
   ]
  },
  {
   "cell_type": "markdown",
   "id": "558226a7-68c7-4b4f-820d-cac7248eed9d",
   "metadata": {},
   "source": [
    "### Visual Representation of Gates\n",
    "\n",
    "These gates can be visualized using the Bloch sphere, where:\n",
    "- |0⟩ is at the north pole\n",
    "- |1⟩ is at the south pole\n",
    "- Superposition states are points on the sphere's surface\n",
    "\n"
   ]
  },
  {
   "cell_type": "code",
   "execution_count": 6,
   "id": "69f31a9b-c175-42b9-97ef-79a50fc483c2",
   "metadata": {},
   "outputs": [
    {
     "data": {
      "image/png": "[encoded data removed]",
      "text/plain": [
       "<Figure size 400x200 with 1 Axes>"
      ]
     },
     "metadata": {},
     "output_type": "display_data"
    }
   ],
   "source": [
    "# Visualizing gates on the Bloch sphere\n",
    "import matplotlib.pyplot as plt\n",
    "\n",
    "@qml.qnode(dev)\n",
    "def visualize_rotations():\n",
    "    qml.RY(0.8, wires=0)\n",
    "    return qml.state()\n",
    "\n",
    "# With PennyLane's draw function\n",
    "fig, ax = qml.draw_mpl(visualize_rotations)()\n",
    "plt.show()  # This would show the circuit diagram"
   ]
  },
  {
   "cell_type": "markdown",
   "id": "db58754a-2def-4a5d-b6e7-cb81611b2ccd",
   "metadata": {},
   "source": [
    "### Two-Qubit Gates for Entanglement\n",
    "\n",
    "1. **CNOT Gate**: Controlled-NOT gate - flips the second qubit if the first is |1⟩\n",
    "   ```python\n",
    "   qml.CNOT(wires=[0, 1])  # Control qubit is 0, target qubit is 1\n",
    "   ```\n",
    "\n",
    "2. **CZ Gate**: Controlled-Z gate - applies Z operation on second qubit if first is |1⟩\n",
    "   ```python\n",
    "   qml.CZ(wires=[0, 1])\n",
    "   ```"
   ]
  },
  {
   "cell_type": "markdown",
   "id": "9c02b742-b92f-4b9c-83b7-238c29117d06",
   "metadata": {},
   "source": [
    "## 4. Quantum Entanglement: Spooky Action at a Distance\n",
    "\n",
    "Entanglement is a unique quantum phenomenon where qubits become correlated in ways impossible in classical physics."
   ]
  },
  {
   "cell_type": "code",
   "execution_count": 7,
   "id": "5966f297-a75e-4e5b-bd23-8251f8fc9d8a",
   "metadata": {},
   "outputs": [
    {
     "name": "stdout",
     "output_type": "stream",
     "text": [
      "[0.70710678+0.j 0.        +0.j 0.        +0.j 0.70710678+0.j]\n"
     ]
    }
   ],
   "source": [
    "# Creating an entangled Bell state\n",
    "dev = qml.device('default.qubit', wires=2)\n",
    "\n",
    "@qml.qnode(dev)\n",
    "def bell_state():\n",
    "    qml.Hadamard(wires=0)  # Put first qubit in superposition\n",
    "    qml.CNOT(wires=[0, 1])  # Entangle the qubits\n",
    "    return qml.state()\n",
    "\n",
    "entangled_state = bell_state()\n",
    "print(entangled_state)  # Approximately [0.7071, 0, 0, 0.7071]\n",
    "                        # This represents |00⟩ + |11⟩"
   ]
  },
  {
   "cell_type": "markdown",
   "id": "a0ca1b19-2eee-421e-9ff9-434d19cb9d86",
   "metadata": {},
   "source": [
    "**In plain English**: When two qubits are entangled, measuring one immediately affects the other, regardless of distance. If you measure the first qubit as |0⟩, the second will definitely be |0⟩ too (in this Bell state)."
   ]
  },
  {
   "cell_type": "markdown",
   "id": "42bbd308-f99c-4587-a885-e3e88b924b8f",
   "metadata": {},
   "source": [
    "## 5. Quantum Measurement: Collapsing the Wave Function\n",
    "\n",
    "When we measure a qubit, its superposition collapses to either |0⟩ or |1⟩:"
   ]
  },
  {
   "cell_type": "code",
   "execution_count": 8,
   "id": "292a0da1-c9b7-416f-a570-c38fc5ad4ef4",
   "metadata": {},
   "outputs": [
    {
     "name": "stdout",
     "output_type": "stream",
     "text": [
      "Measured |0⟩ approximately 48.6% of the time\n",
      "Measured |1⟩ approximately 51.4% of the time\n"
     ]
    }
   ],
   "source": [
    "# Demonstrating measurement\n",
    "dev = qml.device('default.qubit', wires=1, shots=1000)  # 1000 repetitions\n",
    "\n",
    "@qml.qnode(dev)\n",
    "def measure_demo():\n",
    "    qml.Hadamard(wires=0)  # Equal superposition\n",
    "    return qml.sample(qml.PauliZ(0))  # Measure in Z-basis\n",
    "\n",
    "results = measure_demo()\n",
    "zeros = (results + 1) / 2  # Convert from ±1 to 0/1\n",
    "ones = (-results + 1) / 2\n",
    "print(f\"Measured |0⟩ approximately {sum(zeros)/len(zeros)*100}% of the time\")\n",
    "print(f\"Measured |1⟩ approximately {sum(ones)/len(ones)*100}% of the time\")"
   ]
  },
  {
   "cell_type": "markdown",
   "id": "11471cd3-c7a8-4a58-89a1-3ddad94adbef",
   "metadata": {},
   "source": [
    "## 6. Quantum Circuits: Putting It All Together\n",
    "\n",
    "A quantum circuit is a sequence of quantum gates applied to qubits:"
   ]
  },
  {
   "cell_type": "code",
   "execution_count": 9,
   "id": "0728a04b-e4b2-4a5a-8ec3-53dafeb09248",
   "metadata": {},
   "outputs": [
    {
     "name": "stdout",
     "output_type": "stream",
     "text": [
      "Circuit output: 0.27714649751343456\n"
     ]
    }
   ],
   "source": [
    "# Simple quantum circuit\n",
    "dev = qml.device('default.qubit', wires=2)\n",
    "\n",
    "@qml.qnode(dev)\n",
    "def simple_circuit(x, y):\n",
    "    # Data encoding\n",
    "    qml.RX(x, wires=0)\n",
    "    qml.RY(y, wires=1)\n",
    "    \n",
    "    # Processing\n",
    "    qml.CNOT(wires=[0, 1])\n",
    "    qml.RZ(0.5, wires=1)\n",
    "    \n",
    "    # Measurement\n",
    "    return qml.expval(qml.PauliZ(1))  # Expectation value of Z measurement\n",
    "\n",
    "result = simple_circuit(0.7, 1.2)\n",
    "print(f\"Circuit output: {result}\")"
   ]
  },
  {
   "cell_type": "markdown",
   "id": "5e1b5459-4315-4671-bb80-fdbe2ac4bdc3",
   "metadata": {},
   "source": [
    "## 7. From Classical ML to Quantum ML"
   ]
  },
  {
   "cell_type": "markdown",
   "id": "2e129809-574d-4072-b0cb-85c6ce2073b7",
   "metadata": {},
   "source": [
    "### Classical ML Reminder\n",
    "In classical ML, we typically:\n",
    "1. Prepare data\n",
    "2. Define a model with parameters\n",
    "3. Train the model by optimizing parameters\n",
    "4. Make predictions\n",
    "\n",
    "### QML Approach\n",
    "In QML, we follow a similar pattern:\n",
    "\n",
    "1. **Prepare classical data**\n",
    "2. **Encode data into quantum states**\n",
    "3. **Process with parameterized quantum circuits**\n",
    "4. **Measure to get classical results**\n",
    "5. **Optimize circuit parameters**"
   ]
  },
  {
   "cell_type": "code",
   "execution_count": 10,
   "id": "a633c73f-6ec3-405d-adf2-c850ff1d74be",
   "metadata": {},
   "outputs": [
    {
     "name": "stderr",
     "output_type": "stream",
     "text": [
      "/home/sagemaker-user/.conda/envs/qml/lib/python3.10/site-packages/pennylane/_grad.py:216: UserWarning: Attempted to differentiate a function with no trainable parameters. If this is unintended, please add trainable parameters via the 'requires_grad' attribute or 'argnum' keyword.\n",
      "  warnings.warn(\n"
     ]
    },
    {
     "name": "stdout",
     "output_type": "stream",
     "text": [
      "Cost at step 0: 0.3717\n",
      "Cost at step 10: 0.3717\n",
      "Cost at step 20: 0.3717\n",
      "Cost at step 30: 0.3717\n",
      "Cost at step 40: 0.3717\n",
      "Predictions: [0.04 0.15 0.08 0.13]\n",
      "Actual values: [0 1 0 1]\n"
     ]
    }
   ],
   "source": [
    "# Basic QML workflow\n",
    "import pennylane as qml\n",
    "import numpy as np\n",
    "\n",
    "# 1. Set up a quantum device\n",
    "dev = qml.device(\"default.qubit\", wires=2)\n",
    "\n",
    "# 2. Define a quantum circuit with trainable parameters\n",
    "@qml.qnode(dev)\n",
    "def quantum_circuit(inputs, weights):\n",
    "    # Encode data\n",
    "    qml.RX(inputs[0], wires=0)\n",
    "    qml.RY(inputs[1], wires=1)\n",
    "    \n",
    "    # Apply trainable rotation gates\n",
    "    qml.RZ(weights[0], wires=0)\n",
    "    qml.RY(weights[1], wires=1)\n",
    "    \n",
    "    # Entangle qubits\n",
    "    qml.CNOT(wires=[0, 1])\n",
    "    \n",
    "    # Apply more trainable gates\n",
    "    qml.RX(weights[2], wires=0)\n",
    "    qml.RZ(weights[3], wires=1)\n",
    "    \n",
    "    # Measure the first qubit\n",
    "    return qml.expval(qml.PauliZ(0))\n",
    "\n",
    "# 3. Define a simple dataset\n",
    "X = np.array([[0.1, 0.2], [0.8, 0.9], [0.4, 0.1], [0.7, 0.6]])\n",
    "y = np.array([0, 1, 0, 1])\n",
    "\n",
    "# 4. Define a cost function\n",
    "def cost(weights, X, y):\n",
    "    predictions = [quantum_circuit(x, weights) for x in X]\n",
    "    # Convert predictions from [-1,1] to [0,1] range\n",
    "    predictions = (np.array(predictions) + 1) / 2\n",
    "    # Mean squared error\n",
    "    return np.mean((predictions - y) ** 2)\n",
    "\n",
    "# 5. Initialize random weights\n",
    "init_weights = np.random.uniform(0, 2*np.pi, size=4)\n",
    "\n",
    "# 6. Create an optimizer\n",
    "opt = qml.GradientDescentOptimizer(stepsize=0.1)\n",
    "\n",
    "# 7. Training loop\n",
    "weights = init_weights\n",
    "for i in range(50):\n",
    "    weights = opt.step(lambda w: cost(w, X, y), weights)\n",
    "    if i % 10 == 0:\n",
    "        print(f\"Cost at step {i}: {cost(weights, X, y):.4f}\")\n",
    "\n",
    "# 8. Make predictions\n",
    "final_predictions = [(quantum_circuit(x, weights) + 1) / 2 for x in X]\n",
    "print(\"Predictions:\", np.round(final_predictions, 2))\n",
    "print(\"Actual values:\", y)"
   ]
  },
  {
   "cell_type": "markdown",
   "id": "f5774236-0c7b-4ec7-b726-5d5df8abee1b",
   "metadata": {},
   "source": [
    "## 8. Common QML Gates and Their Purpose\n",
    "\n",
    "Here's a quick reference of gates commonly used in QML:\n",
    "\n",
    "| Gate | Symbol | Purpose in QML |\n",
    "|------|--------|----------------|\n",
    "| RX | RX(θ) | Encode continuous values; rotate around X-axis |\n",
    "| RY | RY(θ) | Encode continuous values; rotate around Y-axis |\n",
    "| RZ | RZ(θ) | Encode continuous values; rotate around Z-axis |\n",
    "| Hadamard | H | Create superposition; useful for feature maps |\n",
    "| CNOT | CNOT | Create entanglement between qubits |\n",
    "| CZ | CZ | Create entanglement with phase change |\n",
    "| SWAP | SWAP | Switch states of two qubits |\n",
    "| U3 | U3(θ,φ,λ) | General single-qubit rotation (universal) |\n",
    "\n"
   ]
  },
  {
   "cell_type": "markdown",
   "id": "ee96bfef-18ca-43c8-97b0-b60d4863d40e",
   "metadata": {},
   "source": [
    "## 9. Data Encoding: Getting Classical Data into Quantum Form\n",
    "\n",
    "Three common encoding methods:\n",
    "\n",
    "### Angle Encoding\n",
    "Map classical values to rotation angles:\n",
    "\n",
    "```python\n",
    "def angle_encoding(x, wires):\n",
    "    for i, feature in enumerate(x):\n",
    "        qml.RY(feature, wires=i)\n",
    "```\n",
    "\n",
    "### Amplitude Encoding\n",
    "Encode data in the probability amplitudes:\n",
    "\n",
    "```python\n",
    "def amplitude_encoding(x, wires):\n",
    "    # Normalize the input vector\n",
    "    x_normalized = x / np.linalg.norm(x)\n",
    "    qml.AmplitudeEmbedding(x_normalized, wires=wires, normalize=True)\n",
    "```\n",
    "\n",
    "### Basis Encoding\n",
    "Encode binary data directly in computational basis states:\n",
    "\n",
    "```python\n",
    "def basis_encoding(x, wires):\n",
    "    for i, bit in enumerate(x):\n",
    "        if bit == 1:\n",
    "            qml.PauliX(wires=i)  # Flip the qubit if bit is 1\n",
    "```"
   ]
  },
  {
   "cell_type": "markdown",
   "id": "6ec428c9-e011-44a0-9dc0-fbea4f783c95",
   "metadata": {},
   "source": [
    "## 10. Your First QML Algorithm\n",
    "\n",
    "Let's put everything together and implement a simple quantum classifier:"
   ]
  },
  {
   "cell_type": "code",
   "execution_count": 11,
   "id": "3931bd83-4c5e-4f2a-9861-9f427335944d",
   "metadata": {},
   "outputs": [
    {
     "name": "stdout",
     "output_type": "stream",
     "text": [
      "Training quantum classifier...\n"
     ]
    },
    {
     "name": "stderr",
     "output_type": "stream",
     "text": [
      "/home/sagemaker-user/.conda/envs/qml/lib/python3.10/site-packages/pennylane/_grad.py:216: UserWarning: Attempted to differentiate a function with no trainable parameters. If this is unintended, please add trainable parameters via the 'requires_grad' attribute or 'argnum' keyword.\n",
      "  warnings.warn(\n"
     ]
    },
    {
     "name": "stdout",
     "output_type": "stream",
     "text": [
      "Cost at step 0: 0.2894\n",
      "Cost at step 20: 0.2894\n",
      "Cost at step 40: 0.2894\n",
      "Cost at step 60: 0.2894\n",
      "Cost at step 80: 0.2894\n",
      "Test accuracy: 0.4333\n",
      "Sample 1: Predicted 0.58 (Class 1), Actual 1\n",
      "Sample 2: Predicted 0.41 (Class 0), Actual 1\n",
      "Sample 3: Predicted 0.42 (Class 0), Actual 1\n",
      "Sample 4: Predicted 0.60 (Class 1), Actual 0\n",
      "Sample 5: Predicted 0.20 (Class 0), Actual 0\n"
     ]
    }
   ],
   "source": [
    "# Complete quantum classifier example\n",
    "import pennylane as qml\n",
    "import numpy as np\n",
    "from sklearn.datasets import load_iris\n",
    "from sklearn.preprocessing import StandardScaler\n",
    "from sklearn.model_selection import train_test_split\n",
    "\n",
    "# Prepare data (just 2 features for simplicity)\n",
    "iris = load_iris()\n",
    "X = iris.data[:, :2]  # Take first two features\n",
    "y = iris.target\n",
    "# Keep only 2 classes for binary classification\n",
    "X = X[y != 2]\n",
    "y = y[y != 2]\n",
    "\n",
    "# Scale features\n",
    "scaler = StandardScaler()\n",
    "X = scaler.fit_transform(X)\n",
    "\n",
    "# Split data\n",
    "X_train, X_test, y_train, y_test = train_test_split(X, y, test_size=0.3, random_state=42)\n",
    "\n",
    "# Scale to [0, π] range for rotation gates\n",
    "X_train_scaled = X_train * np.pi\n",
    "X_test_scaled = X_test * np.pi\n",
    "\n",
    "# Set up quantum device\n",
    "dev = qml.device('default.qubit', wires=2)\n",
    "\n",
    "# Define quantum circuit\n",
    "@qml.qnode(dev)\n",
    "def quantum_classifier(inputs, weights):\n",
    "    # Encode the 2 features\n",
    "    qml.RX(inputs[0], wires=0)\n",
    "    qml.RY(inputs[1], wires=1)\n",
    "    \n",
    "    # First layer of trainable gates\n",
    "    qml.RZ(weights[0], wires=0)\n",
    "    qml.RY(weights[1], wires=1)\n",
    "    \n",
    "    # Entangling gates\n",
    "    qml.CNOT(wires=[0, 1])\n",
    "    \n",
    "    # Second layer of trainable gates\n",
    "    qml.RX(weights[2], wires=0)\n",
    "    qml.RZ(weights[3], wires=1)\n",
    "    \n",
    "    # Return expectation value\n",
    "    return qml.expval(qml.PauliZ(0))\n",
    "\n",
    "# Define cost function\n",
    "def cost(weights):\n",
    "    predictions = [quantum_classifier(x, weights) for x in X_train_scaled]\n",
    "    predictions = (np.array(predictions) + 1) / 2  # Map from [-1,1] to [0,1]\n",
    "    return np.mean((predictions - y_train) ** 2)\n",
    "\n",
    "# Initialize weights\n",
    "np.random.seed(42)\n",
    "weights = np.random.uniform(0, 2*np.pi, size=4)\n",
    "\n",
    "# Create optimizer\n",
    "opt = qml.GradientDescentOptimizer(stepsize=0.2)\n",
    "\n",
    "# Training loop\n",
    "print(\"Training quantum classifier...\")\n",
    "for i in range(100):\n",
    "    weights = opt.step(cost, weights)\n",
    "    if i % 20 == 0:\n",
    "        cost_val = cost(weights)\n",
    "        print(f\"Cost at step {i}: {cost_val:.4f}\")\n",
    "\n",
    "# Evaluate on test set\n",
    "predictions = [(quantum_classifier(x, weights) + 1) / 2 for x in X_test_scaled]\n",
    "predictions_binary = np.round(predictions)\n",
    "accuracy = np.mean(predictions_binary == y_test)\n",
    "print(f\"Test accuracy: {accuracy:.4f}\")\n",
    "\n",
    "# Visualize a few test predictions\n",
    "for i in range(5):\n",
    "    x = X_test_scaled[i]\n",
    "    pred = (quantum_classifier(x, weights) + 1) / 2\n",
    "    actual = y_test[i]\n",
    "    print(f\"Sample {i+1}: Predicted {pred:.2f} (Class {int(round(pred))}), Actual {actual}\")"
   ]
  },
  {
   "cell_type": "markdown",
   "id": "b1ed55fe-563b-4aa4-b897-b611a512ae6e",
   "metadata": {},
   "source": [
    "## 11. Key QML Algorithms\n",
    "\n",
    "1. **Variational Quantum Eigensolver (VQE)**: Finds the lowest energy state\n",
    "2. **Quantum Approximate Optimization Algorithm (QAOA)**: Solves combinatorial optimization problems\n",
    "3. **Quantum Neural Networks (QNN)**: Quantum version of neural networks \n",
    "4. **Quantum Support Vector Machines (QSVM)**: Leverages quantum kernels for classification"
   ]
  },
  {
   "cell_type": "markdown",
   "id": "fec8a514-1729-410c-b18a-e6d4f91361e3",
   "metadata": {},
   "source": [
    "## 12. QML Challenges\n",
    "\n",
    "1. **Barren plateaus**: Gradients vanish in deep quantum circuits\n",
    "2. **Limited qubits**: Current hardware limits available qubits\n",
    "3. **Decoherence and noise**: Real quantum computers have errors\n",
    "4. **Data loading**: Efficiently encoding classical data is challenging"
   ]
  },
  {
   "cell_type": "markdown",
   "id": "451ba4b9-5b04-482d-8373-90dc9485f774",
   "metadata": {},
   "source": [
    "## 13. Additional QML Tools and References\n",
    "\n",
    "### Quantum Machine Learning Tools and References\n",
    "\n",
    "#### Core Frameworks\n",
    "\n",
    "| Framework | Creator | Focus | Link |\n",
    "|-----------|---------|-------|------|\n",
    "| **PennyLane** | Xanadu | ML integration, device-agnostic | [PennyLane](https://pennylane.ai/) |\n",
    "| **Qiskit** | IBM | Comprehensive ecosystem | [Qiskit](https://qiskit.org/) |\n",
    "| **Cirq** | Google | Low-level circuit control | [Cirq](https://quantumai.google/cirq) |\n",
    "| **TensorFlow Quantum** | Google | TensorFlow integration | [TF Quantum](https://www.tensorflow.org/quantum) |\n",
    "| **PyQuil & Forest** | Rigetti | Hybrid quantum-classical | [PyQuil](https://pyquil-docs.rigetti.com/) |\n",
    "| **Amazon Braket** | Amazon | Cloud quantum computing | [Braket](https://aws.amazon.com/braket/) |\n",
    "| **Microsoft Q#** | Microsoft | Full quantum programming | [Q#](https://learn.microsoft.com/en-us/azure/quantum/) |\n",
    "\n",
    "#### Specialized QML Libraries\n",
    "\n",
    "| Library | Purpose | Unique Features |\n",
    "|---------|---------|----------------|\n",
    "| **Qiskit Machine Learning** | ML-specific Qiskit extension | Quantum Neural Networks, QSVM |\n",
    "| **PennyLane-Qiskit** | PennyLane-Qiskit integration | Use IBM devices with PennyLane |\n",
    "| **TorchQuantum** | PyTorch for QML | Quantum differentiable programming |\n",
    "| **Paddle Quantum** | Baidu's QML framework | Focus on quantum neural networks |\n",
    "| **Quantum Kernel Trainer** | Quantum kernel methods | Efficient kernel implementation |\n",
    "| **QuTiP** | Quantum toolbox in Python | Useful for quantum simulations |\n",
    "\n",
    "#### Testing and Development Tools\n",
    "\n",
    "| Tool | Purpose | Usage |\n",
    "|------|---------|-------|\n",
    "| **Mitiq** | Error mitigation | Improve results on noisy devices |\n",
    "| **Qiskit Aer** | High-performance simulators | Test circuits before hardware |\n",
    "| **Qiskit Ignis** | Error characterization | Understand device noise |\n",
    "| **QuTiP** | Quantum dynamics | Visualize quantum operations |\n",
    "| **Visualization Libraries** | Circuit visualization | `qml.draw()`, `qiskit.visualization` |\n",
    "\n",
    "#### Cloud Quantum Platforms for Testing\n",
    "\n",
    "| Platform | Provider | Accessible Hardware |\n",
    "|----------|----------|---------------------|\n",
    "| **IBM Quantum Experience** | IBM | Various IBM quantum processors |\n",
    "| **Amazon Braket** | Amazon | IonQ, Rigetti, D-Wave hardware |\n",
    "| **Azure Quantum** | Microsoft | IonQ, Honeywell, QCI hardware |\n",
    "| **Google Quantum AI** | Google | Google Sycamore (limited access) |\n",
    "| **Xanadu Cloud** | Xanadu | Photonic quantum hardware |\n",
    "\n",
    "#### Educational Resources\n",
    "\n",
    "1. **Books**:\n",
    "   - \"Quantum Machine Learning: What Quantum Computing Means to Data Mining\" by Peter Wittek\n",
    "   - \"Quantum Computing for Computer Scientists\" by Yanofsky and Mannucci\n",
    "   - \"Machine Learning with Quantum Computers\" by Schuld and Petruccione\n",
    "\n",
    "2. **Online Courses**:\n",
    "   - Qiskit Textbook: [qiskit.org/textbook](https://qiskit.org/textbook)\n",
    "   - PennyLane Demos: [pennylane.ai/qml](https://pennylane.ai/qml)\n",
    "   - edX \"Quantum Machine Learning\" by University of Toronto\n",
    "   - Coursera \"Quantum Machine Learning\" by Peter Wittek\n",
    "\n",
    "3. **Communities**:\n",
    "   - Quantum Computing Stack Exchange\n",
    "   - Qiskit Slack workspace\n",
    "   - PennyLane forum\n",
    "   - Quantum Open Source Foundation\n",
    "\n",
    "#### Example Code Repositories\n",
    "\n",
    "1. **Quantum Tensorflow Examples**: [github.com/tensorflow/quantum](https://github.com/tensorflow/quantum)\n",
    "2. **PennyLane QML Demos**: [github.com/PennyLaneAI/qml](https://github.com/PennyLaneAI/qml)\n",
    "\n",
    "#### Research Papers to Start With\n",
    "\n",
    "1. \"Quantum Machine Learning\" by Biamonte et al. (Nature, 2017)\n",
    "2. \"Supervised Learning with Quantum Computers\" by Schuld and Petruccione\n",
    "3. \"Classification with Quantum Neural Networks on Near Term Processors\" by Farhi and Neven\n",
    "4. \"Power of data in quantum machine learning\" by Huang et al.\n",
    "5. \"Quantum algorithms for supervised and unsupervised machine learning\" by Lloyd et al."
   ]
  },
  {
   "cell_type": "code",
   "execution_count": null,
   "id": "492c2c1c-d29e-48a6-86ec-68061b50fdb1",
   "metadata": {},
   "outputs": [],
   "source": []
  }
 ],
 "metadata": {
  "kernelspec": {
   "display_name": "Python (qml)",
   "language": "python",
   "name": "qml"
  },
  "language_info": {
   "codemirror_mode": {
    "name": "ipython",
    "version": 3
   },
   "file_extension": ".py",
   "mimetype": "text/x-python",
   "name": "python",
   "nbconvert_exporter": "python",
   "pygments_lexer": "ipython3",
   "version": "3.10.16"
  }
 },
 "nbformat": 4,
 "nbformat_minor": 5
}
